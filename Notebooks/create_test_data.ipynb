{
 "cells": [
  {
   "cell_type": "code",
   "execution_count": 1,
   "id": "744c1eb6",
   "metadata": {},
   "outputs": [],
   "source": [
    "import matplotlib.pyplot as plt\n",
    "import numpy as np\n",
    "import pydicom\n",
    "import pandas as pd\n",
    "from glob import glob\n",
    "import os"
   ]
  },
  {
   "cell_type": "code",
   "execution_count": 3,
   "id": "9bbc4b56",
   "metadata": {},
   "outputs": [
    {
     "name": "stdout",
     "output_type": "stream",
     "text": [
      "/Users/dmtragfnv/hackathons/int20h_2024/INT20H_RSNA_Pneumonia_Detection_4NN/Notebooks\r\n"
     ]
    }
   ],
   "source": [
    "!pwd"
   ]
  },
  {
   "cell_type": "code",
   "execution_count": 5,
   "id": "3ae91b0f",
   "metadata": {},
   "outputs": [],
   "source": [
    "DATA_PATH = \"../Data\"\n",
    "\n",
    "det_class_path = os.path.join(DATA_PATH, 'stage_2_detailed_class_info.csv')\n",
    "bbox_path = os.path.join(DATA_PATH, 'stage_2_train_labels.csv')\n",
    "dicom_dir = os.path.join(DATA_PATH, 'stage_2_train_images/')\n",
    "\n",
    "test_dicom_dir = os.path.join(DATA_PATH, 'stage_2_test_images/')"
   ]
  },
  {
   "cell_type": "code",
   "execution_count": 7,
   "id": "e557cb29",
   "metadata": {},
   "outputs": [
    {
     "data": {
      "text/html": [
       "<div>\n",
       "<style scoped>\n",
       "    .dataframe tbody tr th:only-of-type {\n",
       "        vertical-align: middle;\n",
       "    }\n",
       "\n",
       "    .dataframe tbody tr th {\n",
       "        vertical-align: top;\n",
       "    }\n",
       "\n",
       "    .dataframe thead th {\n",
       "        text-align: right;\n",
       "    }\n",
       "</style>\n",
       "<table border=\"1\" class=\"dataframe\">\n",
       "  <thead>\n",
       "    <tr style=\"text-align: right;\">\n",
       "      <th></th>\n",
       "      <th>path</th>\n",
       "      <th>patientId</th>\n",
       "    </tr>\n",
       "  </thead>\n",
       "  <tbody>\n",
       "    <tr>\n",
       "      <th>0</th>\n",
       "      <td>../Data/stage_2_test_images/2392af63-9496-4e72...</td>\n",
       "      <td>2392af63-9496-4e72-b348-9276432fd797</td>\n",
       "    </tr>\n",
       "    <tr>\n",
       "      <th>1</th>\n",
       "      <td>../Data/stage_2_test_images/2ce40417-1531-4101...</td>\n",
       "      <td>2ce40417-1531-4101-be24-e85416c812cc</td>\n",
       "    </tr>\n",
       "    <tr>\n",
       "      <th>2</th>\n",
       "      <td>../Data/stage_2_test_images/2bc0fd91-931a-446f...</td>\n",
       "      <td>2bc0fd91-931a-446f-becb-7a6d3f2a7678</td>\n",
       "    </tr>\n",
       "    <tr>\n",
       "      <th>3</th>\n",
       "      <td>../Data/stage_2_test_images/29d42f45-5046-4112...</td>\n",
       "      <td>29d42f45-5046-4112-87fa-18ea6ea97e75</td>\n",
       "    </tr>\n",
       "    <tr>\n",
       "      <th>4</th>\n",
       "      <td>../Data/stage_2_test_images/208e3daf-18cb-4bf7...</td>\n",
       "      <td>208e3daf-18cb-4bf7-8325-0acf318ed62c</td>\n",
       "    </tr>\n",
       "    <tr>\n",
       "      <th>...</th>\n",
       "      <td>...</td>\n",
       "      <td>...</td>\n",
       "    </tr>\n",
       "    <tr>\n",
       "      <th>2995</th>\n",
       "      <td>../Data/stage_2_test_images/2622cb49-48e6-47dd...</td>\n",
       "      <td>2622cb49-48e6-47dd-9031-bdbf4467ed74</td>\n",
       "    </tr>\n",
       "    <tr>\n",
       "      <th>2996</th>\n",
       "      <td>../Data/stage_2_test_images/28d1dd60-8594-4f78...</td>\n",
       "      <td>28d1dd60-8594-4f78-b627-7bec5cc238f3</td>\n",
       "    </tr>\n",
       "    <tr>\n",
       "      <th>2997</th>\n",
       "      <td>../Data/stage_2_test_images/12228fee-ec17-4d76...</td>\n",
       "      <td>12228fee-ec17-4d76-945d-cb7fc0e9c3c5</td>\n",
       "    </tr>\n",
       "    <tr>\n",
       "      <th>2998</th>\n",
       "      <td>../Data/stage_2_test_images/11ea306d-5547-42cb...</td>\n",
       "      <td>11ea306d-5547-42cb-aa25-a02f151fe5ac</td>\n",
       "    </tr>\n",
       "    <tr>\n",
       "      <th>2999</th>\n",
       "      <td>../Data/stage_2_test_images/1c04333e-0911-447d...</td>\n",
       "      <td>1c04333e-0911-447d-ac17-173ac4a27e9a</td>\n",
       "    </tr>\n",
       "  </tbody>\n",
       "</table>\n",
       "<p>3000 rows × 2 columns</p>\n",
       "</div>"
      ],
      "text/plain": [
       "                                                   path  \\\n",
       "0     ../Data/stage_2_test_images/2392af63-9496-4e72...   \n",
       "1     ../Data/stage_2_test_images/2ce40417-1531-4101...   \n",
       "2     ../Data/stage_2_test_images/2bc0fd91-931a-446f...   \n",
       "3     ../Data/stage_2_test_images/29d42f45-5046-4112...   \n",
       "4     ../Data/stage_2_test_images/208e3daf-18cb-4bf7...   \n",
       "...                                                 ...   \n",
       "2995  ../Data/stage_2_test_images/2622cb49-48e6-47dd...   \n",
       "2996  ../Data/stage_2_test_images/28d1dd60-8594-4f78...   \n",
       "2997  ../Data/stage_2_test_images/12228fee-ec17-4d76...   \n",
       "2998  ../Data/stage_2_test_images/11ea306d-5547-42cb...   \n",
       "2999  ../Data/stage_2_test_images/1c04333e-0911-447d...   \n",
       "\n",
       "                                 patientId  \n",
       "0     2392af63-9496-4e72-b348-9276432fd797  \n",
       "1     2ce40417-1531-4101-be24-e85416c812cc  \n",
       "2     2bc0fd91-931a-446f-becb-7a6d3f2a7678  \n",
       "3     29d42f45-5046-4112-87fa-18ea6ea97e75  \n",
       "4     208e3daf-18cb-4bf7-8325-0acf318ed62c  \n",
       "...                                    ...  \n",
       "2995  2622cb49-48e6-47dd-9031-bdbf4467ed74  \n",
       "2996  28d1dd60-8594-4f78-b627-7bec5cc238f3  \n",
       "2997  12228fee-ec17-4d76-945d-cb7fc0e9c3c5  \n",
       "2998  11ea306d-5547-42cb-aa25-a02f151fe5ac  \n",
       "2999  1c04333e-0911-447d-ac17-173ac4a27e9a  \n",
       "\n",
       "[3000 rows x 2 columns]"
      ]
     },
     "execution_count": 7,
     "metadata": {},
     "output_type": "execute_result"
    }
   ],
   "source": [
    "image_df = pd.DataFrame({'path': glob(os.path.join(test_dicom_dir, '*.dcm'))})\n",
    "image_df['patientId'] = image_df['path'].map(lambda x: os.path.splitext(os.path.basename(x))[0])\n",
    "image_df"
   ]
  },
  {
   "cell_type": "code",
   "execution_count": null,
   "id": "271a6d09",
   "metadata": {},
   "outputs": [],
   "source": []
  }
 ],
 "metadata": {
  "kernelspec": {
   "display_name": "Python 3 (ipykernel)",
   "language": "python",
   "name": "python3"
  },
  "language_info": {
   "codemirror_mode": {
    "name": "ipython",
    "version": 3
   },
   "file_extension": ".py",
   "mimetype": "text/x-python",
   "name": "python",
   "nbconvert_exporter": "python",
   "pygments_lexer": "ipython3",
   "version": "3.10.13"
  }
 },
 "nbformat": 4,
 "nbformat_minor": 5
}
